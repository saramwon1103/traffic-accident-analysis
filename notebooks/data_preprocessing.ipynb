{
 "cells": [
  {
   "cell_type": "code",
   "execution_count": null,
   "metadata": {},
   "outputs": [],
   "source": [
    "import pandas as pd\n",
    "from sklearn.preprocessing import LabelEncoder"
   ]
  },
  {
   "cell_type": "code",
   "execution_count": null,
   "metadata": {},
   "outputs": [],
   "source": [
    "# Đọc dataset từ file CSV\n",
    "file_path = \"D:/traffic_accidents.csv\"  # Thay đổi đường dẫn nếu cần\n",
    "df = pd.read_csv(file_path, encoding='utf-8')  # Thử với utf-8 hoặc ISO-8859-1\n",
    "\n",
    "# Hiển thị thông tin dữ liệu\n",
    "df.info()\n",
    "df.head()"
   ]
  },
  {
   "cell_type": "code",
   "execution_count": null,
   "metadata": {},
   "outputs": [],
   "source": [
    "# Xóa cột \"crash_date\" nếu tồn tại\n",
    "if \"crash_date\" in df.columns:\n",
    "    df = df.drop(columns=[\"crash_date\"])\n",
    "\n",
    "# Kiểm tra lại dữ liệu\n",
    "df.head()"
   ]
  },
  {
   "cell_type": "code",
   "execution_count": null,
   "metadata": {},
   "outputs": [],
   "source": [
    "# Các cột cần mã hóa\n",
    "categorical_columns = [\n",
    "    \"traffic_control_device\", \"weather_condition\", \"lighting_condition\", \"first_crash_type\", \n",
    "    \"trafficway_type\", \"alignment\", \"roadway_surface_cond\", \"road_defect\", \"crash_type\", \n",
    "    \"intersection_related_i\", \"damage\", \"prim_contributory_cause\", \"most_severe_injury\"\n",
    "]\n",
    "\n",
    "# Dictionary để lưu các label encoder\n",
    "decoders = {}\n",
    "\n",
    "# Mã hóa từng cột\n",
    "for col in categorical_columns:\n",
    "    le = LabelEncoder()\n",
    "    df[col] = le.fit_transform(df[col])  # Thay đổi trực tiếp giá trị trong cột\n",
    "    decoders[col] = dict(zip(le.classes_, le.transform(le.classes_)))  # Lưu mapping cho báo cáo"
   ]
  },
  {
   "cell_type": "code",
   "execution_count": null,
   "metadata": {},
   "outputs": [],
   "source": [
    "# Xuất báo cáo mã hóa\n",
    "encoding_report = \"\"\"Báo cáo Mã hóa Categorical Data\\n\\n\"\"\"\n",
    "for col, mapping in decoders.items():\n",
    "    encoding_report += f\"Cột: {col}\\n\"\n",
    "    for key, value in mapping.items():\n",
    "        encoding_report += f\"  {key}: {value}\\n\"\n",
    "    encoding_report += \"\\n\"\n",
    "\n",
    "# Xuất báo cáo mã hoá ra file\n",
    "report_path = \"D:/encoding_report.txt\"\n",
    "with open(report_path, \"w\", encoding=\"utf-8\") as f:\n",
    "    f.write(encoding_report)\n",
    "\n",
    "print(f\"Báo cáo mã hóa đã lưu vào: {report_path}\")"
   ]
  }
 ],
 "metadata": {
  "language_info": {
   "name": "python"
  }
 },
 "nbformat": 4,
 "nbformat_minor": 2
}
